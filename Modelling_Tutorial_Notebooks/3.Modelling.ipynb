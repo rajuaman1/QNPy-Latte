{
 "cells": [
  {
   "cell_type": "markdown",
   "id": "a09f0e4f-78c4-4c26-816a-50d6c8bf6917",
   "metadata": {},
   "source": [
    "### Intro"
   ]
  },
  {
   "cell_type": "markdown",
   "id": "be7e8d86-fcfa-4ec0-b92b-e78461e77bcb",
   "metadata": {},
   "source": [
    "In this notebook, we will model the light curves using the trained model from the previous notebook"
   ]
  },
  {
   "cell_type": "markdown",
   "id": "21a4bada-a7c2-4c9f-9745-9aeddd3a06f9",
   "metadata": {},
   "source": [
    "### Import"
   ]
  },
  {
   "cell_type": "code",
   "execution_count": null,
   "id": "7c3b96cd-afe2-4359-a593-17967a14783f",
   "metadata": {},
   "outputs": [],
   "source": [
    "import QNPy_Latte.PREDICTION_Original_mjd as por #Importing PREDICTION_onePDF module from the package\n",
    "from QNPy_Latte.PREDICTION_Original_mjd import * #Importing importing all packages from PREDICTION_onePDF module\n",
    "#The functions plot_function2, back_x and back_y must be imported separately\n",
    "from QNPy_Latte.PREDICTION_Original_mjd import plot_function2, back_x, back_y, find_LC_transform "
   ]
  },
  {
   "cell_type": "markdown",
   "id": "bc3861c2-47d3-4463-a48c-5df1b54e3943",
   "metadata": {},
   "source": [
    "### Creating Folders"
   ]
  },
  {
   "cell_type": "markdown",
   "id": "ec8948ad-d8c7-4aaf-8dc0-cd4084b333e5",
   "metadata": {},
   "source": [
    "We remove the padding from the curves. Thus, if you would like to train the model more, please save a copy of the dataset folder"
   ]
  },
  {
   "cell_type": "code",
   "execution_count": null,
   "id": "14ada347-7780-45ac-8169-759ef56acb77",
   "metadata": {},
   "outputs": [],
   "source": [
    "#The folder that all the files are in\n",
    "full_folder = './'\n",
    "suffix = f'LCs' #Whatever suffix you gave to the output files"
   ]
  },
  {
   "cell_type": "code",
   "execution_count": null,
   "id": "894a3850-0242-4c09-937f-d3582243490e",
   "metadata": {},
   "outputs": [],
   "source": [
    "#Creating the predictions folder\n",
    "os.makedirs(f'{full_folder}/output_{suffix}/predictions',exist_ok=True)\n",
    "os.makedirs(f'{full_folder}/output_{suffix}/predictions/Transfer_Functions/test',exist_ok=True)\n",
    "os.makedirs(f'{full_folder}/output_{suffix}/predictions/Transfer_Functions/train',exist_ok=True)\n",
    "os.makedirs(f'{full_folder}/output_{suffix}/predictions/Transfer_Functions/val',exist_ok=True)\n",
    "os.makedirs(f'{full_folder}/output_{suffix}/predictions/Parameter_Predictions/test',exist_ok=True)\n",
    "os.makedirs(f'{full_folder}/output_{suffix}/predictions/Parameter_Predictions/train',exist_ok=True)\n",
    "os.makedirs(f'{full_folder}/output_{suffix}/predictions/Parameter_Predictions/val',exist_ok=True)\n",
    "por.create_prediction_folders(f'{full_folder}/output_{suffix}/predictions')"
   ]
  },
  {
   "cell_type": "code",
   "execution_count": null,
   "id": "88f0a5ba-061d-4ff5-bdec-feedf1a0494c",
   "metadata": {},
   "outputs": [],
   "source": [
    "#deleting the padded values from test set\n",
    "folder_path = f'{full_folder}/dataset_{suffix}/test/'\n",
    "por.remove_padded_values_and_filter(folder_path)\n",
    "\n",
    "folder_path = f'{full_folder}/dataset_{suffix}/train/' \n",
    "por.remove_padded_values_and_filter(folder_path)\n",
    "\n",
    "folder_path = f'{full_folder}/dataset_{suffix}/val/'  \n",
    "por.remove_padded_values_and_filter(folder_path)"
   ]
  },
  {
   "cell_type": "code",
   "execution_count": null,
   "id": "f5c6953d-8b15-4323-a688-97982d65b065",
   "metadata": {},
   "outputs": [],
   "source": [
    "MODEL_PATH = f\"{full_folder}/output_{suffix}/model_{suffix}.pth\" #path to saved model\n",
    "#Path to the data\n",
    "DATA_PATH_TRAIN = f\"{full_folder}/dataset_{suffix}/train\"\n",
    "DATA_PATH_VAL = f\"{full_folder}/dataset_{suffix}/val\"\n",
    "DATA_PATH_TEST= f\"{full_folder}/dataset_{suffix}/test\"\n",
    "OUTPUT_PATH = f'{full_folder}/output_{suffix}/predictions/' #path where to save the plots and data"
   ]
  },
  {
   "cell_type": "code",
   "execution_count": null,
   "id": "d9d7ad1a-90d4-423f-9676-46cc71d7f9ab",
   "metadata": {},
   "outputs": [],
   "source": [
    "#clearing outputh dir if you want. Uncomment the next line\n",
    "#clear_output_dir=por.prepare_output_dir(OUTPUT_PATH)"
   ]
  },
  {
   "cell_type": "code",
   "execution_count": null,
   "id": "e804fc52-239d-43a7-976f-751ba4c4c33f",
   "metadata": {},
   "outputs": [],
   "source": [
    "#Load the saved model\n",
    "model = por.load_trained_model(MODEL_PATH, device, encoding_size,latent_size,latent_mlp_size=128,attention = cross_attention,self_attention=self_attention,no_latent_space_sample=1,lstm_layers = lstm_layers,lstm_agg = False,lstm_size=lstm_size,transfer_function_length=transfer_function_length,parameters_length = param_length,classes = 0,replace_lstm_with_gru=True\n",
    "                                ,activation='leaky',bidirectional=False)\n",
    "#loading criterion and metrics\n",
    "criterion, mseMetric=por.get_criteria()"
   ]
  },
  {
   "cell_type": "code",
   "execution_count": null,
   "id": "b68260d8-b9cb-4276-9004-f5f83b2c57de",
   "metadata": {},
   "outputs": [],
   "source": [
    "#loading the coeffitients to transform back from [-2,2] to the real values\n",
    "tr=por.load_trcoeff(f'{full_folder}/TR_Coeffs/trcoeff_{suffix}.pickle')"
   ]
  },
  {
   "cell_type": "code",
   "execution_count": null,
   "id": "3246923c-3fc8-4fbf-8046-c990d6132a66",
   "metadata": {},
   "outputs": [],
   "source": [
    "#The paths for the transfer function and parameters if they exist\n",
    "tf_and_param = True #Set false if using real data without transfer function and parameter\n",
    "if tf_and_param:\n",
    "    TF_PATH = f'Transfer_Functions/band_name'\n",
    "    param_df_path = 'Parameters.csv' #If there is no parameters dataframe, it should be None\n",
    "    parameters_df = pd.read_csv(param_df_path)\n",
    "    param_columns=['Log_Mass','Inclination','Log_Tau','z','Eddington_Ratio','SFinf'] #Change to the names of your columns\n",
    "    param_length = len(param_columns))\n",
    "    TF_SAVE_PATH_TRAIN = f'{full_folder}/output_{suffix}/predictions/Transfer_Functions/train/'\n",
    "    TF_SAVE_PATH_TEST = f'{full_folder}/output_{suffix}/predictions/Transfer_Functions/test/'\n",
    "    TF_SAVE_PATH_VAL = f'{full_folder}/output_{suffix}/predictions/Transfer_Functions/val/'\n",
    "    PARAM_SAVE_PATH_TRAIN = f'{full_folder}/output_{suffix}/predictions/Parameter_Predictions/train/'\n",
    "    PARAM_SAVE_PATH_VAL = f'{full_folder}/output_{suffix}/predictions/Parameter_Predictions/val/'\n",
    "    PARAM_SAVE_PATH_TEST = f'{full_folder}/output_{suffix}/predictions/Parameter_Predictions/test/'\n",
    "    beta_param = 0.1 #Change to the value you trained\n",
    "    beta_tf = 0.1 #Change to the value you trained\n",
    "else:\n",
    "    TF_PATH = None\n",
    "    param_df = None\n",
    "    param_columns = []\n",
    "    param_length = 0\n",
    "    beta_param = 0\n",
    "    beta_tf = 0"
   ]
  },
  {
   "cell_type": "code",
   "execution_count": null,
   "id": "88f0cf5f-0f78-4174-a516-c107bc325a8d",
   "metadata": {},
   "outputs": [],
   "source": [
    "#The number of target points you want to model\n",
    "num_target_smooth = 100\n",
    "#Load train data\n",
    "trainLoader=por.load_train_data(DATA_PATH_TRAIN,num_target_smooth=num_target_smooth,tf_dir = TF_PATH,param_df=param_df,param_columns=param_columns,class_labels_df = None)\n",
    "#Load test data\n",
    "testLoader=por.load_test_data(DATA_PATH_TEST,num_target_smooth=num_target_smooth,tf_dir = TF_PATH,param_df=param_df,param_columns=param_columns,class_labels_df = None)\n",
    "#Load val data\n",
    "valLoader=por.load_val_data(DATA_PATH_VAL,num_target_smooth=num_target_smooth,tf_dir = TF_PATH,param_df=param_df,param_columns=param_columns,class_labels_df = None)"
   ]
  },
  {
   "cell_type": "code",
   "execution_count": null,
   "id": "c551a060-6a3f-4cd0-8b31-92590ed77453",
   "metadata": {},
   "outputs": [],
   "source": [
    "#Defining empty lists to store predictions\n",
    "names = []\n",
    "all_z = []\n",
    "all_R = []\n",
    "all_full_rep = []\n",
    "all_predicted_tfs = []\n",
    "all_predicted_params = []"
   ]
  },
  {
   "cell_type": "markdown",
   "id": "38fcdf1a-b44d-4c14-b6c3-ca9aac981c9d",
   "metadata": {},
   "source": [
    "## Reconstruction "
   ]
  },
  {
   "cell_type": "markdown",
   "id": "9d53871f-19d3-46c6-b4cf-d3b49205111f",
   "metadata": {},
   "source": [
    "#### Test"
   ]
  },
  {
   "cell_type": "code",
   "execution_count": null,
   "id": "346841f4-43c0-4e12-80e3-db34ee68b5e0",
   "metadata": {},
   "outputs": [],
   "source": [
    "#Get the names of the light curves and the transfer_function and params\n",
    "transfer_functions_test = []\n",
    "params_test = []\n",
    "for i in testLoader:\n",
    "    names.append(i['lcName'][0].split('_')[0])\n",
    "    if tf_and_param:\n",
    "        transfer_functions_test.append(i['transfer_function'][0].numpy())\n",
    "        params_test.append(i['parameters'][0].numpy())\n",
    "params_test = np.array(params_test)\n",
    "transfer_functions_test = np.array(transfer_functions_test)"
   ]
  },
  {
   "cell_type": "code",
   "execution_count": null,
   "id": "c4baa6a6-9d33-4b2b-8d5a-bbd851dac0aa",
   "metadata": {},
   "outputs": [],
   "source": [
    "#prediction and ploting of test data\n",
    "testMetrics,z_test,R_test, agg_R_z_test,predicted_params_test,predicted_tf_test,predicted_classes =por.plot_test_data(model, testLoader, criterion, mseMetric, plot_function2, device, tr,OUTPUT_PATH,beta_param = beta_param,beta_classifier=0,beta_tf=beta_tf)"
   ]
  },
  {
   "cell_type": "code",
   "execution_count": null,
   "id": "18535276-7290-4205-b17d-c21ee90876d9",
   "metadata": {},
   "outputs": [],
   "source": [
    "#Save all the results to arrays\n",
    "all_z.append(z_test)\n",
    "all_R.append(R_test)\n",
    "all_full_rep.append(agg_R_z_test)\n",
    "all_predicted_tfs.append(predicted_tf_test)\n",
    "all_predicted_params.append(predicted_params_test)"
   ]
  },
  {
   "cell_type": "code",
   "execution_count": null,
   "id": "2d79291c-c622-4e98-8974-ef7a217bcac3",
   "metadata": {},
   "outputs": [],
   "source": [
    "#saving test metrics\n",
    "savetest=por.save_test_metrics(OUTPUT_PATH, testMetrics)"
   ]
  },
  {
   "cell_type": "markdown",
   "id": "6d01c598-8a9c-49f1-884f-eb942a848ad6",
   "metadata": {},
   "source": [
    "#### Train"
   ]
  },
  {
   "cell_type": "code",
   "execution_count": null,
   "id": "15f4907f-fd0e-4d2d-b0a2-5465d6ee5496",
   "metadata": {},
   "outputs": [],
   "source": [
    "#Get the names of the light curves and the transfer_function and params\n",
    "transfer_functions_train = []\n",
    "params_train = []\n",
    "for i in trainLoader:\n",
    "    names.append(i['lcName'][0].split('_')[0])\n",
    "    if tf_and_param:\n",
    "        transfer_functions_train.append(i['transfer_function'][0].numpy())\n",
    "        params_train.append(i['parameters'][0].numpy())\n",
    "params_train = np.array(params_train)\n",
    "transfer_functions_train = np.array(transfer_functions_train)"
   ]
  },
  {
   "cell_type": "code",
   "execution_count": null,
   "id": "aacfee03-f98c-44c3-b668-63e8c4862162",
   "metadata": {},
   "outputs": [],
   "source": [
    "#prediction and ploting of train data\n",
    "trainMetrics,z_train,R_train,agg_R_z_train,predicted_params_train,predicted_tf_train,predicted_classes =por.plot_train_light_curves(model, trainLoader,criterion, mseMetric, plot_function2, device,tr,OUTPUT_PATH,beta_param = beta_param,beta_classifier=0,beta_tf=beta_tf)"
   ]
  },
  {
   "cell_type": "code",
   "execution_count": null,
   "id": "41a30793-2178-4dbe-8a81-2c011ae6a557",
   "metadata": {},
   "outputs": [],
   "source": [
    "#Save all the results to arrays\n",
    "all_z.append(z_train)\n",
    "all_R.append(R_train)\n",
    "all_full_rep.append(agg_R_z_train)\n",
    "all_predicted_tfs.append(predicted_tf_train)\n",
    "all_predicted_params.append(predicted_params_train)"
   ]
  },
  {
   "cell_type": "code",
   "execution_count": null,
   "id": "23301d0f-4045-439f-b125-c65d67f9b92b",
   "metadata": {},
   "outputs": [],
   "source": [
    "#Save the train metrics\n",
    "savetrain=por.save_train_metrics(OUTPUT_PATH, trainMetrics)"
   ]
  },
  {
   "cell_type": "markdown",
   "id": "509ce1e7-1e7a-4e5a-a4a1-17dea621d688",
   "metadata": {},
   "source": [
    "#### Validation"
   ]
  },
  {
   "cell_type": "code",
   "execution_count": null,
   "id": "61b932b7-100b-4364-9d41-16e2b5b89b33",
   "metadata": {},
   "outputs": [],
   "source": [
    "#Get the names of the light curves and the transfer_function and params\n",
    "transfer_functions_val = []\n",
    "params_val = []\n",
    "for i in valLoader:\n",
    "    names.append(i['lcName'][0].split('_')[0])\n",
    "    if tf_and_param:\n",
    "        transfer_functions_val.append(i['transfer_function'][0].numpy())\n",
    "        params_val.append(i['parameters'][0].numpy())\n",
    "params_val = np.array(params_val)\n",
    "transfer_functions_val = np.array(transfer_functions_val)"
   ]
  },
  {
   "cell_type": "code",
   "execution_count": null,
   "id": "7c0131bd-2f42-418c-95da-d5b023a70343",
   "metadata": {},
   "outputs": [],
   "source": [
    "#Prediction and plotting of val data\n",
    "valMetrics,z_val,R_val,agg_R_z_val,predicted_params_val,predicted_tf_val,predicted_classes =por.plot_val_curves(model, valLoader,criterion, mseMetric, plot_function2, device,tr,OUTPUT_PATH,beta_param = beta_param,beta_classifier=0,beta_tf=beta_tf)"
   ]
  },
  {
   "cell_type": "code",
   "execution_count": null,
   "id": "bf830eac-c5dc-4b95-b4d1-8c8bf964a28f",
   "metadata": {},
   "outputs": [],
   "source": [
    "#Save all the results to arrays\n",
    "all_z.append(z_val)\n",
    "all_R.append(R_val)\n",
    "all_full_rep.append(agg_R_z_val)\n",
    "all_predicted_tfs.append(predicted_tf_val)\n",
    "all_predicted_params.append(predicted_params_val)"
   ]
  },
  {
   "cell_type": "code",
   "execution_count": null,
   "id": "6a6e12c1-a969-4199-8a88-4c3f4076e6cc",
   "metadata": {},
   "outputs": [],
   "source": [
    "#Save all the hidden representations and names\n",
    "with open(f'{suffix}_Rs.pickle', 'wb') as handle:\n",
    "    pickle.dump(all_R, handle)\n",
    "    \n",
    "with open(f'{suffix}_zs.pickle', 'wb') as handle:\n",
    "    pickle.dump(all_z, handle)\n",
    "    \n",
    "with open(f'{suffix}_full_reps.pickle', 'wb') as handle:\n",
    "    pickle.dump(all_full_rep, handle)\n",
    "    \n",
    "with open(f'{suffix}_names.pickle', 'wb') as handle:\n",
    "    pickle.dump(names, handle)"
   ]
  },
  {
   "cell_type": "markdown",
   "id": "d584a7ef-149d-45e7-a195-bd21e9012a52",
   "metadata": {},
   "source": [
    "Now you are finished, unless you want to plot the transfer function and parameters"
   ]
  },
  {
   "cell_type": "markdown",
   "id": "ab804d66-40d2-4d15-8032-530c7c806255",
   "metadata": {},
   "source": [
    "## Comparing Predicted TF and Parameters (OPTIONAL)"
   ]
  },
  {
   "cell_type": "markdown",
   "id": "e286d7ce-dfc0-4b08-b32b-e78132b4e4fd",
   "metadata": {},
   "source": [
    "#### Test Data"
   ]
  },
  {
   "cell_type": "code",
   "execution_count": null,
   "id": "2c36177a-3b57-48aa-810f-425c9f2dc9c5",
   "metadata": {},
   "outputs": [],
   "source": [
    "#Provide your ttau array\n",
    "ttau = np.linspace(0,10,100)\n",
    "ttau_plot_len = -1 #How much of the ttau do you want to plot\n",
    "Plotting_TF_Mean(predicted_tf_test,transfer_functions_test,ttau,TF_SAVE_PATH_TEST,ttau_plot_len)\n",
    "Plotting_TF_Individual(testLoader,predicted_tf_test,transfer_functions_test,ttau,TF_SAVE_PATH_TEST,ttau_plot_len)"
   ]
  },
  {
   "cell_type": "markdown",
   "id": "1449b99c-ffb1-4bb0-986b-e8948881e206",
   "metadata": {},
   "source": [
    "#### Train Data"
   ]
  },
  {
   "cell_type": "code",
   "execution_count": null,
   "id": "f525310e-3ebb-4500-9fa0-998e8fa5b675",
   "metadata": {},
   "outputs": [],
   "source": [
    "Plotting_TF_Mean(predicted_tf_train,transfer_functions_train,ttau,TF_SAVE_PATH_TRAIN,ttau_plot_len)\n",
    "Plotting_TF_Individual(trainLoader,predicted_tf_train,transfer_functions_train,ttau,TF_SAVE_PATH_TRAIN,ttau_plot_len)"
   ]
  },
  {
   "cell_type": "markdown",
   "id": "e435b93f-197d-4235-9237-2e5050291c3c",
   "metadata": {},
   "source": [
    "#### Validation Data"
   ]
  },
  {
   "cell_type": "code",
   "execution_count": null,
   "id": "45034269-40d2-4705-bcb1-e23110ce7dcc",
   "metadata": {},
   "outputs": [],
   "source": [
    "Plotting_TF_Mean(predicted_tf_val,transfer_functions_val,ttau,TF_SAVE_PATH_VAL,ttau_plot_len)\n",
    "Plotting_TF_Individual(trainLoader,predicted_tf_val,transfer_functions_val,ttau,TF_SAVE_PATH_VAL,ttau_plot_len)"
   ]
  }
 ],
 "metadata": {
  "kernelspec": {
   "display_name": "QNPy",
   "language": "python",
   "name": "qnpy"
  },
  "language_info": {
   "codemirror_mode": {
    "name": "ipython",
    "version": 3
   },
   "file_extension": ".py",
   "mimetype": "text/x-python",
   "name": "python",
   "nbconvert_exporter": "python",
   "pygments_lexer": "ipython3",
   "version": "3.9.20"
  }
 },
 "nbformat": 4,
 "nbformat_minor": 5
}
